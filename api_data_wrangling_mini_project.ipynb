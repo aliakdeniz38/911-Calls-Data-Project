{
  "nbformat": 4,
  "nbformat_minor": 0,
  "metadata": {
    "colab": {
      "provenance": [],
      "authorship_tag": "ABX9TyNR5RY7VLzRMaOMxcf1ilPP",
      "include_colab_link": true
    },
    "kernelspec": {
      "name": "python3",
      "display_name": "Python 3"
    },
    "language_info": {
      "name": "python"
    }
  },
  "cells": [
    {
      "cell_type": "markdown",
      "metadata": {
        "id": "view-in-github",
        "colab_type": "text"
      },
      "source": [
        "<a href=\"https://colab.research.google.com/github/aliakdeniz38/911-Calls-Data-Project/blob/master/api_data_wrangling_mini_project.ipynb\" target=\"_parent\"><img src=\"https://colab.research.google.com/assets/colab-badge.svg\" alt=\"Open In Colab\"/></a>"
      ]
    },
    {
      "cell_type": "code",
      "execution_count": null,
      "metadata": {
        "colab": {
          "base_uri": "https://localhost:8080/",
          "height": 216
        },
        "id": "yP9KCysrBj3k",
        "outputId": "4d1d5cfd-0ae8-4108-a250-23a546b610fc"
      },
      "outputs": [
        {
          "output_type": "error",
          "ename": "SyntaxError",
          "evalue": "unterminated string literal (detected at line 26) (<ipython-input-1-523253ab5a56>, line 26)",
          "traceback": [
            "\u001b[0;36m  File \u001b[0;32m\"<ipython-input-1-523253ab5a56>\"\u001b[0;36m, line \u001b[0;32m26\u001b[0m\n\u001b[0;31m    For this mini project, we will focus on equities data from the Frankfurt Stock Exhange (FSE), which is available for free. We'll try and analyze the stock prices of a company called Carl Zeiss Meditec, which manufactures tools for eye examinations, as well as medical lasers for laser eye surgery: https://www.zeiss.com/meditec/int/home.html. The company is listed under the stock ticker AFX_X.\u001b[0m\n\u001b[0m                                                                                                                                 ^\u001b[0m\n\u001b[0;31mSyntaxError\u001b[0m\u001b[0;31m:\u001b[0m unterminated string literal (detected at line 26)\n"
          ]
        }
      ],
      "source": [
        "This exercise will require you to pull some data from https://data.nasdaq.com/ (formerly Quandl API).\n",
        "\n",
        "As a first step, you will need to register a free account on the https://data.nasdaq.com/ website.\n",
        "\n",
        "After you register, you will be provided with a unique API key, that you should store:\n",
        "\n",
        "*Note*: Use a `.env` file and put your key in there and `python-dotenv` to access it in this notebook.\n",
        "\n",
        "The code below uses a key that was used when generating this project but has since been deleted. Never submit your keys to source control. There is a `.env-example` file in this repository to illusrtate what you need. Copy that to a file called `.env` and use your own api key in that `.env` file. Make sure you also have a `.gitignore` file with a line for `.env` added to it.\n",
        "\n",
        "The standard Python gitignore is [here](https://github.com/github/gitignore/blob/master/Python.gitignore) you can just copy that.\n",
        "\n",
        "# get api key from your .env file\n",
        "import os\n",
        "from dotenv import load_dotenv\n",
        "\n",
        "load_dotenv()\n",
        "API_KEY = os.getenv('NASDAQ_API_KEY')\n",
        "\n",
        "print(API_KEY)\n",
        "\n",
        "\n",
        "\n",
        "Nasdaq Data has a large number of data sources, but, unfortunately, most of them require a Premium subscription. Still, there are also a good number of free datasets.\n",
        "\n",
        "For this mini project, we will focus on equities data from the Frankfurt Stock Exhange (FSE), which is available for free. We'll try and analyze the stock prices of a company called Carl Zeiss Meditec, which manufactures tools for eye examinations, as well as medical lasers for laser eye surgery: https://www.zeiss.com/meditec/int/home.html. The company is listed under the stock ticker AFX_X.\n",
        "\n",
        "You can find the detailed Nasdaq Data API instructions here: https://docs.data.nasdaq.com/docs/in-depth-usage\n",
        "\n",
        "While there is a dedicated Python package for connecting to the Nasdaq API, we would prefer that you use the *requests* package, which can be easily downloaded using *pip* or *conda*. You can find the documentation for the package here: http://docs.python-requests.org/en/master/\n",
        "\n",
        "Finally, apart from the *requests* package, you are encouraged to not use any third party Python packages, such as *pandas*, and instead focus on what's available in the Python Standard Library (the *collections* module might come in handy: https://pymotw.com/3/collections/).\n",
        "Also, since you won't have access to DataFrames, you are encouraged to us Python's native data structures - preferably dictionaries, though some questions can also be answered using lists.\n",
        "You can read more on these data structures here: https://docs.python.org/3/tutorial/datastructures.html\n",
        "\n",
        "Keep in mind that the JSON responses you will be getting from the API map almost one-to-one to Python's dictionaries. Unfortunately, they can be very nested, so make sure you read up on indexing dictionaries in the documentation provided above.\n",
        "\n",
        "\n",
        "# First, import the relevant modules\n",
        "import json\n",
        "import requests\n",
        "import pandas as pd\n",
        "\n",
        "\n",
        "Note: API's can change a bit with each version, for this exercise it is reccomended to use the nasdaq api at `https://data.nasdaq.com/api/v3/`. This is the same api as what used to be quandl so `https://www.quandl.com/api/v3/` should work too.\n",
        "\n",
        "Hint: We are looking for the `AFX_X` data on the `datasets/FSE/` dataset.\n",
        "\n",
        "\n",
        "# Now, call the Quandl API and pull out a small sample of the data (only one day) to get a glimpse\n",
        "# into the JSON structure that will be returned\n",
        "url = 'https://www.quandl.com/api/v3/datasets/FSE/AFX_X.json?api_key=' + API_KEY\n",
        "r = requests.get(url)\n",
        "\n",
        "# Inspect the JSON structure of the object you created, and take note of how nested it is,\n",
        "# as well as the overall structure\n",
        "\n",
        "These are your tasks for this mini project:\n",
        "\n",
        "1. Collect data from the Franfurt Stock Exchange, for the ticker AFX_X, for the whole year 2017 (keep in mind that the date format is YYYY-MM-DD).\n",
        "2. Convert the returned JSON object into a Python dictionary.\n",
        "3. Calculate what the highest and lowest opening prices were for the stock in this period.\n",
        "4. What was the largest change in any one day (based on High and Low price)?\n",
        "5. What was the largest change between any two days (based on Closing Price)?\n",
        "6. What was the average daily trading volume during this year?\n",
        "7. (Optional) What was the median trading volume during this year. (Note: you may need to implement your own function for calculating the median.)\n",
        "\n",
        "\n",
        "\n",
        "\n"
      ]
    },
    {
      "cell_type": "markdown",
      "source": [
        " get api key from your .env file\n",
        "import os\n",
        "from dotenv import load_dotenv\n",
        "\n",
        "load_dotenv()\n",
        "API_KEY = os.getenv('NASDAQ_API_KEY')\n",
        "\n",
        "print(API_KEY)\n"
      ],
      "metadata": {
        "id": "nrwgbgUIBmUE"
      }
    },
    {
      "cell_type": "code",
      "source": [],
      "metadata": {
        "colab": {
          "base_uri": "https://localhost:8080/"
        },
        "id": "EVVAFZw5B1_s",
        "outputId": "c1f40223-a28d-4fc0-a450-a1ac0a40d0d7"
      },
      "execution_count": 12,
      "outputs": [
        {
          "output_type": "stream",
          "name": "stdout",
          "text": [
            "None\n"
          ]
        }
      ]
    },
    {
      "cell_type": "code",
      "source": [
        "# prompt: import\n",
        "\n",
        "import os\n",
        "from dotenv import load_dotenv\n",
        "import json\n",
        "import requests\n",
        "import pandas as pd\n"
      ],
      "metadata": {
        "id": "lefhlCW2B3sQ"
      },
      "execution_count": 13,
      "outputs": []
    },
    {
      "cell_type": "code",
      "source": [],
      "metadata": {
        "id": "jO_6I8HUCLcy"
      },
      "execution_count": null,
      "outputs": []
    },
    {
      "cell_type": "code",
      "source": [
        "!pip install python-dotenv\n"
      ],
      "metadata": {
        "colab": {
          "base_uri": "https://localhost:8080/"
        },
        "id": "pABGA_ilCH8D",
        "outputId": "72b419c8-e382-4136-c540-e3417050ffcd"
      },
      "execution_count": null,
      "outputs": [
        {
          "output_type": "stream",
          "name": "stdout",
          "text": [
            "Collecting python-dotenv\n",
            "  Downloading python_dotenv-1.0.1-py3-none-any.whl.metadata (23 kB)\n",
            "Downloading python_dotenv-1.0.1-py3-none-any.whl (19 kB)\n",
            "Installing collected packages: python-dotenv\n",
            "Successfully installed python-dotenv-1.0.1\n"
          ]
        }
      ]
    },
    {
      "cell_type": "code",
      "source": [
        "import os\n",
        "from dotenv import load_dotenv\n",
        "import json\n",
        "import requests\n",
        "import pandas as pd\n",
        "\n"
      ],
      "metadata": {
        "id": "7zhbGzAECMeJ"
      },
      "execution_count": null,
      "outputs": []
    },
    {
      "cell_type": "code",
      "source": [
        "# get api key from your .env file\n",
        "import os\n",
        "from dotenv import load_dotenv\n",
        "\n",
        "load_dotenv()\n",
        "API_KEY = os.getenv('NASDAQ_API_KEY')\n",
        "\n",
        "print(API_KEY)\n"
      ],
      "metadata": {
        "colab": {
          "base_uri": "https://localhost:8080/"
        },
        "id": "fl7ua2xtCRmY",
        "outputId": "4a254259-005d-4c40-96df-bd00dea34e35"
      },
      "execution_count": 14,
      "outputs": [
        {
          "output_type": "stream",
          "name": "stdout",
          "text": [
            "M9hNusdJXRsE4urGHxkt\n"
          ]
        }
      ]
    },
    {
      "cell_type": "code",
      "source": [
        "# First, import the relevant modules\n",
        "import requests"
      ],
      "metadata": {
        "id": "eyHv95fOCczl"
      },
      "execution_count": 15,
      "outputs": []
    },
    {
      "cell_type": "code",
      "source": [
        "# Now, call the Quandl API and pull out a small sample of the data (only one day) to get a glimpse\n",
        "# into the JSON structure that will be returned\n",
        "url = 'https://www.quandl.com/api/v3/datasets/FSE/AFX_X/data.json?limit=1&api_key='+API_KEY\n",
        "r = requests.get(url)\n"
      ],
      "metadata": {
        "id": "vi0C4QExErlT"
      },
      "execution_count": 16,
      "outputs": []
    },
    {
      "cell_type": "code",
      "source": [
        "# Inspect the JSON structure of the object you created, and take note of how nested it is,\n",
        "# as well as the overall structure\n",
        "print(r.json())\n"
      ],
      "metadata": {
        "colab": {
          "base_uri": "https://localhost:8080/"
        },
        "id": "990i3gv2Ex4r",
        "outputId": "fd4ec79a-97ff-40d6-d802-3e0ae3902c00"
      },
      "execution_count": 17,
      "outputs": [
        {
          "output_type": "stream",
          "name": "stdout",
          "text": [
            "{'dataset_data': {'limit': 1, 'transform': None, 'column_index': None, 'column_names': ['Date', 'Open', 'High', 'Low', 'Close', 'Change', 'Traded Volume', 'Turnover', 'Last Price of the Day', 'Daily Traded Units', 'Daily Turnover'], 'start_date': '2000-06-07', 'end_date': '2020-12-01', 'frequency': 'daily', 'data': [['2020-12-01', 112.2, 112.2, 111.5, 112.0, None, 51.0, 5703.0, None, None, None]], 'collapse': None, 'order': None}}\n"
          ]
        }
      ]
    },
    {
      "cell_type": "code",
      "source": [
        "# 1. Collect data from the Franfurt Stock Exchange, for the ticker AFX_X, for the whole year 2017 (keep in mind that\n",
        "# the date format is YYYY-MM-DD).\n",
        "url = 'https://www.quandl.com/api/v3/datasets/FSE/AFX_X/data.json?start_date=2017-01-01&end_date=2017-12-31&api_key='+API_KEY\n",
        "r = requests.get(url)\n"
      ],
      "metadata": {
        "id": "KNh3euRDE1EN"
      },
      "execution_count": 18,
      "outputs": []
    },
    {
      "cell_type": "code",
      "source": [
        "# 2. Convert the returned JSON object into a Python dictionary.\n",
        "json_data = r.json()\n"
      ],
      "metadata": {
        "id": "WRvPGHMjE3_z"
      },
      "execution_count": 19,
      "outputs": []
    },
    {
      "cell_type": "code",
      "source": [
        "# 3. Calculate what the highest and lowest opening prices were for the stock in this period.\n",
        "open_prices = [daily[1] for daily in json_data['dataset_data']['data'] if daily[1] != None]\n",
        "max_open = str(max(open_prices))\n",
        "min_open = str(min(open_prices))\n",
        "print('The highest opening price was $' + max_open + ' and the lowest opening price was $' + min_open + ' in 2017.')"
      ],
      "metadata": {
        "colab": {
          "base_uri": "https://localhost:8080/"
        },
        "id": "dP2NGmGpE9B4",
        "outputId": "229af300-7ac2-4ad7-9b9e-f8cddcc348f0"
      },
      "execution_count": 20,
      "outputs": [
        {
          "output_type": "stream",
          "name": "stdout",
          "text": [
            "The highest opening price was $53.11 and the lowest opening price was $34.0 in 2017.\n"
          ]
        }
      ]
    },
    {
      "cell_type": "code",
      "source": [
        "# 4. What was the largest change in any one day (based on High and Low price)?\n",
        "daily_change = [daily[2]-daily[3] for daily in json_data['dataset_data']['data'] if daily[2:3] != None]\n",
        "largest_change = str(round(max(daily_change), 2))\n",
        "print('The largest change in any one day was $' + largest_change + ' in 2017.')"
      ],
      "metadata": {
        "colab": {
          "base_uri": "https://localhost:8080/"
        },
        "id": "MjwecvN4FAbW",
        "outputId": "5a935b2e-3c01-40f6-9029-623c514e65af"
      },
      "execution_count": 21,
      "outputs": [
        {
          "output_type": "stream",
          "name": "stdout",
          "text": [
            "The largest change in any one day was $2.81 in 2017.\n"
          ]
        }
      ]
    },
    {
      "cell_type": "code",
      "source": [
        "# 5. What was the largest change between any two days (based on Closing Price)?\n",
        "close_prices = [daily[4] for daily in json_data['dataset_data']['data'] if daily[4] != None]\n",
        "change = [x - close_prices[i-1] for i,x in enumerate(close_prices)][1:]\n",
        "pos_change = [abs(num) for num in change]\n",
        "largest_close_change = str(round(max(pos_change), 2))\n",
        "print('The largest change between any two consecutive days based on Closing Price was $' + str(largest_close_change) + ' in 2017.')"
      ],
      "metadata": {
        "colab": {
          "base_uri": "https://localhost:8080/"
        },
        "id": "04ggIP7uE86V",
        "outputId": "f337d3f6-5066-4fb3-9952-3c554c0b4dd0"
      },
      "execution_count": 22,
      "outputs": [
        {
          "output_type": "stream",
          "name": "stdout",
          "text": [
            "The largest change between any two consecutive days based on Closing Price was $2.56 in 2017.\n"
          ]
        }
      ]
    },
    {
      "cell_type": "code",
      "source": [
        "# 6. What was the average daily trading volume during this year?\n",
        "daily_trading_volume = [daily[6] for daily in json_data['dataset_data']['data'] if daily[6] != None]\n",
        "average = str(round(sum(daily_trading_volume)/len(daily_trading_volume),1))\n",
        "print('The average daily trading volume during 2017 was ' + average + '.')"
      ],
      "metadata": {
        "colab": {
          "base_uri": "https://localhost:8080/"
        },
        "id": "2j6mm_zKFGMX",
        "outputId": "83bd2fc6-0976-40bc-c303-46c529a772b9"
      },
      "execution_count": 23,
      "outputs": [
        {
          "output_type": "stream",
          "name": "stdout",
          "text": [
            "The average daily trading volume during 2017 was 89124.3.\n"
          ]
        }
      ]
    },
    {
      "cell_type": "code",
      "source": [
        "# 7. (Optional) What was the median trading volume during this year. (Note: you may need to implement your own function\n",
        "# for calculating the median.)\n",
        "daily_trading_volume = [daily[6] for daily in json_data['dataset_data']['data'] if daily[6] != None]\n",
        "def median(anylist):\n",
        "    sorted_anylist = sorted(anylist)\n",
        "    len_anylist = len(anylist)\n",
        "    index = (len_anylist-1)//2\n",
        "\n",
        "    if (len_anylist%2):\n",
        "        return sorted_anylist[index]\n",
        "    else:\n",
        "        return (sorted_anylist[index]+sorted_anylist[index+1])//2.0\n",
        "median = str(median(daily_trading_volume))\n",
        "print('The median trading volume during 2017 was ' + median + '.')"
      ],
      "metadata": {
        "colab": {
          "base_uri": "https://localhost:8080/"
        },
        "id": "PSgOj2YZFIvH",
        "outputId": "9a177a52-0208-4c11-cb57-d3140e20f189"
      },
      "execution_count": 24,
      "outputs": [
        {
          "output_type": "stream",
          "name": "stdout",
          "text": [
            "The median trading volume during 2017 was 76286.0.\n"
          ]
        }
      ]
    }
  ]
}